{
 "cells": [
  {
   "cell_type": "code",
   "execution_count": 1,
   "id": "5881a6b0",
   "metadata": {},
   "outputs": [],
   "source": [
    "def say_hello():\n",
    "    print(\"Hello Python!\")"
   ]
  },
  {
   "cell_type": "code",
   "execution_count": 2,
   "id": "502548e1",
   "metadata": {},
   "outputs": [
    {
     "name": "stdout",
     "output_type": "stream",
     "text": [
      "Hello Python!\n"
     ]
    }
   ],
   "source": [
    "say_hello()"
   ]
  },
  {
   "cell_type": "code",
   "execution_count": 3,
   "id": "64f3e8f4",
   "metadata": {},
   "outputs": [],
   "source": [
    "def say_hello(name='Default'):\n",
    "    print(f\"hello {name}\")"
   ]
  },
  {
   "cell_type": "code",
   "execution_count": 4,
   "id": "46a6ae5e",
   "metadata": {},
   "outputs": [
    {
     "name": "stdout",
     "output_type": "stream",
     "text": [
      "hello lassan\n"
     ]
    }
   ],
   "source": [
    "say_hello('lassan')"
   ]
  },
  {
   "cell_type": "code",
   "execution_count": 5,
   "id": "b975358a",
   "metadata": {},
   "outputs": [
    {
     "name": "stdout",
     "output_type": "stream",
     "text": [
      "hello Default\n"
     ]
    }
   ],
   "source": [
    "say_hello()"
   ]
  },
  {
   "cell_type": "code",
   "execution_count": 6,
   "id": "f5f7dec1",
   "metadata": {},
   "outputs": [],
   "source": [
    "def add_num(num1, num2):\n",
    "    return num1+num2"
   ]
  },
  {
   "cell_type": "code",
   "execution_count": 7,
   "id": "7b5bb065",
   "metadata": {},
   "outputs": [
    {
     "data": {
      "text/plain": [
       "5"
      ]
     },
     "execution_count": 7,
     "metadata": {},
     "output_type": "execute_result"
    }
   ],
   "source": [
    "add_num(1,4)"
   ]
  },
  {
   "cell_type": "markdown",
   "id": "54f033b3",
   "metadata": {},
   "source": [
    "<h3> *args && **kwargs </h3>"
   ]
  },
  {
   "cell_type": "code",
   "execution_count": 8,
   "id": "849ca284",
   "metadata": {},
   "outputs": [],
   "source": [
    "def add_num(*args):\n",
    "    return sum(args)"
   ]
  },
  {
   "cell_type": "code",
   "execution_count": 9,
   "id": "ba5c7fc6",
   "metadata": {},
   "outputs": [
    {
     "data": {
      "text/plain": [
       "13"
      ]
     },
     "execution_count": 9,
     "metadata": {},
     "output_type": "execute_result"
    }
   ],
   "source": [
    "add_num(3,4,6)"
   ]
  },
  {
   "cell_type": "code",
   "execution_count": 10,
   "id": "5c9098f6",
   "metadata": {},
   "outputs": [],
   "source": [
    "def myfunc(**kwargs):\n",
    "    if 'fruit' in kwargs:\n",
    "        print(\"My coice: {}\".format(kwargs['fruit']))\n",
    "    else:\n",
    "        print('not available')"
   ]
  },
  {
   "cell_type": "code",
   "execution_count": 13,
   "id": "6de731b9",
   "metadata": {},
   "outputs": [
    {
     "name": "stdout",
     "output_type": "stream",
     "text": [
      "not available\n"
     ]
    }
   ],
   "source": [
    "\n",
    "myfunc(vdd='appa')"
   ]
  },
  {
   "cell_type": "code",
   "execution_count": 15,
   "id": "8ee93fab",
   "metadata": {},
   "outputs": [
    {
     "name": "stdout",
     "output_type": "stream",
     "text": [
      "My coice: appa\n"
     ]
    }
   ],
   "source": [
    "\n",
    "myfunc(fruit='appa')"
   ]
  },
  {
   "cell_type": "code",
   "execution_count": 19,
   "id": "64ed8bd7",
   "metadata": {},
   "outputs": [],
   "source": [
    "def myfunc(*args, **kwargs):\n",
    "    print(args)\n",
    "    print(kwargs)\n",
    "    print('I like {} {}'.format(args[0],kwargs['food']))"
   ]
  },
  {
   "cell_type": "code",
   "execution_count": 20,
   "id": "ef7166d5",
   "metadata": {},
   "outputs": [
    {
     "name": "stdout",
     "output_type": "stream",
     "text": [
      "(10, 20, 30)\n",
      "{'fruit': 'apple', 'food': 'fffd'}\n",
      "I like 10 fffd\n"
     ]
    }
   ],
   "source": [
    "myfunc(10,20,30,fruit=\"apple\", food='fffd')"
   ]
  },
  {
   "cell_type": "code",
   "execution_count": 43,
   "id": "344d9c08",
   "metadata": {},
   "outputs": [],
   "source": [
    "def myfunc(word):\n",
    "    newWord = ''\n",
    "    for i,ltr in enumerate(word):\n",
    "        print(i,ltr)\n",
    "        if i%2 == 0:\n",
    "            newWord += word[i].upper()\n",
    "        else:\n",
    "            newWord += word[i].lower()\n",
    "    return newWord"
   ]
  },
  {
   "cell_type": "code",
   "execution_count": 44,
   "id": "059a60fb",
   "metadata": {},
   "outputs": [
    {
     "name": "stdout",
     "output_type": "stream",
     "text": [
      "0 l\n",
      "1 a\n",
      "2 s\n",
      "3 s\n",
      "4 a\n",
      "5 n\n",
      "6 d\n",
      "7 s\n"
     ]
    },
    {
     "data": {
      "text/plain": [
       "'LaSsAnDs'"
      ]
     },
     "execution_count": 44,
     "metadata": {},
     "output_type": "execute_result"
    }
   ],
   "source": [
    "myfunc('lassands')\n",
    "# sss = 'sss'.upper()"
   ]
  },
  {
   "cell_type": "code",
   "execution_count": 46,
   "id": "34429c4b",
   "metadata": {},
   "outputs": [],
   "source": [
    "tmp = [1,2,3,4]"
   ]
  },
  {
   "cell_type": "code",
   "execution_count": 49,
   "id": "215f80fa",
   "metadata": {},
   "outputs": [
    {
     "data": {
      "text/plain": [
       "[4, 3, 2, 1]"
      ]
     },
     "execution_count": 49,
     "metadata": {},
     "output_type": "execute_result"
    }
   ],
   "source": [
    "tmp[::-1]"
   ]
  },
  {
   "cell_type": "code",
   "execution_count": 79,
   "id": "847893fe",
   "metadata": {},
   "outputs": [
    {
     "name": "stdout",
     "output_type": "stream",
     "text": [
      "hhh\n",
      "hhh\n",
      "eee\n",
      "hhheee\n",
      "lll\n",
      "hhheeelll\n",
      "lll\n",
      "hhheeellllll\n",
      "ooo\n",
      "hhheeellllllooo\n"
     ]
    }
   ],
   "source": [
    "updatedstr = ''\n",
    "for char in 'hello'[::]:\n",
    "    print(char*3)\n",
    "#     print(updatedstr.join(char*3))\n",
    "    updatedstr += (char*3)\n",
    "    print(updatedstr)"
   ]
  },
  {
   "cell_type": "code",
   "execution_count": 80,
   "id": "bd15f56e",
   "metadata": {},
   "outputs": [
    {
     "data": {
      "text/plain": [
       "'hhheeellllllooo'"
      ]
     },
     "execution_count": 80,
     "metadata": {},
     "output_type": "execute_result"
    }
   ],
   "source": [
    "updatedstr"
   ]
  },
  {
   "cell_type": "markdown",
   "id": "1cb20603",
   "metadata": {},
   "source": [
    "<h3>Lambda, Map and Filter Functions</h3> "
   ]
  },
  {
   "cell_type": "code",
   "execution_count": 9,
   "id": "1f526679",
   "metadata": {},
   "outputs": [],
   "source": [
    "def sqr(num):\n",
    "    return num**2"
   ]
  },
  {
   "cell_type": "code",
   "execution_count": 10,
   "id": "630e37e1",
   "metadata": {},
   "outputs": [],
   "source": [
    "my_nums = [1,2,4,5]"
   ]
  },
  {
   "cell_type": "code",
   "execution_count": 11,
   "id": "27feb921",
   "metadata": {},
   "outputs": [
    {
     "name": "stdout",
     "output_type": "stream",
     "text": [
      "1\n",
      "4\n",
      "16\n",
      "25\n"
     ]
    }
   ],
   "source": [
    "for item in map(sqr, my_nums):\n",
    "    print(item)"
   ]
  },
  {
   "cell_type": "code",
   "execution_count": 85,
   "id": "fe5ce33c",
   "metadata": {},
   "outputs": [
    {
     "data": {
      "text/plain": [
       "[1, 4, 16, 25]"
      ]
     },
     "execution_count": 85,
     "metadata": {},
     "output_type": "execute_result"
    }
   ],
   "source": [
    "list(map(sqr, my_nums))"
   ]
  },
  {
   "cell_type": "code",
   "execution_count": 1,
   "id": "cd7332fc",
   "metadata": {},
   "outputs": [],
   "source": [
    "def splicer(my_str):\n",
    "    if len(my_str) % 2 == 0:\n",
    "        return 'EVEN'\n",
    "    else:\n",
    "        return my_str[0]"
   ]
  },
  {
   "cell_type": "code",
   "execution_count": 2,
   "id": "e0bbc363",
   "metadata": {},
   "outputs": [],
   "source": [
    "names = ['andy', 'sally', 'laasan']"
   ]
  },
  {
   "cell_type": "code",
   "execution_count": 3,
   "id": "78b5cec3",
   "metadata": {},
   "outputs": [
    {
     "data": {
      "text/plain": [
       "['EVEN', 's', 'EVEN']"
      ]
     },
     "execution_count": 3,
     "metadata": {},
     "output_type": "execute_result"
    }
   ],
   "source": [
    "list(map(splicer,names))"
   ]
  },
  {
   "cell_type": "code",
   "execution_count": 4,
   "id": "29f90424",
   "metadata": {},
   "outputs": [],
   "source": [
    "def check_even(num):\n",
    "    return num % 2 == 0"
   ]
  },
  {
   "cell_type": "code",
   "execution_count": 5,
   "id": "24c19c9d",
   "metadata": {},
   "outputs": [],
   "source": [
    "my_nums = [1,2,3,4,5,6,7,8]"
   ]
  },
  {
   "cell_type": "code",
   "execution_count": 7,
   "id": "f6d582ee",
   "metadata": {},
   "outputs": [
    {
     "data": {
      "text/plain": [
       "[2, 4, 6, 8]"
      ]
     },
     "execution_count": 7,
     "metadata": {},
     "output_type": "execute_result"
    }
   ],
   "source": [
    "list(filter(check_even, my_nums))"
   ]
  },
  {
   "cell_type": "code",
   "execution_count": 12,
   "id": "4e75f26a",
   "metadata": {},
   "outputs": [
    {
     "data": {
      "text/plain": [
       "16"
      ]
     },
     "execution_count": 12,
     "metadata": {},
     "output_type": "execute_result"
    }
   ],
   "source": [
    "sqr(4)"
   ]
  },
  {
   "cell_type": "code",
   "execution_count": 20,
   "id": "0799c096",
   "metadata": {},
   "outputs": [],
   "source": [
    "sqr = lambda num: num ** 2"
   ]
  },
  {
   "cell_type": "code",
   "execution_count": 21,
   "id": "6a7021e2",
   "metadata": {},
   "outputs": [
    {
     "data": {
      "text/plain": [
       "25"
      ]
     },
     "execution_count": 21,
     "metadata": {},
     "output_type": "execute_result"
    }
   ],
   "source": [
    "sqr(5)"
   ]
  },
  {
   "cell_type": "code",
   "execution_count": null,
   "id": "c97d8c0e",
   "metadata": {},
   "outputs": [],
   "source": []
  }
 ],
 "metadata": {
  "kernelspec": {
   "display_name": "Python 3 (ipykernel)",
   "language": "python",
   "name": "python3"
  },
  "language_info": {
   "codemirror_mode": {
    "name": "ipython",
    "version": 3
   },
   "file_extension": ".py",
   "mimetype": "text/x-python",
   "name": "python",
   "nbconvert_exporter": "python",
   "pygments_lexer": "ipython3",
   "version": "3.9.12"
  }
 },
 "nbformat": 4,
 "nbformat_minor": 5
}
