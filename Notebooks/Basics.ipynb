{
 "cells": [
  {
   "cell_type": "code",
   "execution_count": 1,
   "id": "c1a8828c",
   "metadata": {},
   "outputs": [
    {
     "name": "stdout",
     "output_type": "stream",
     "text": [
      "Hello Again!!\n"
     ]
    }
   ],
   "source": [
    "print('Hello Again!!')"
   ]
  },
  {
   "cell_type": "markdown",
   "id": "eddb1121",
   "metadata": {},
   "source": [
    "<h4>Python Numbers</h4>"
   ]
  },
  {
   "cell_type": "code",
   "execution_count": 2,
   "id": "b2ddb68a",
   "metadata": {},
   "outputs": [
    {
     "data": {
      "text/plain": [
       "3"
      ]
     },
     "execution_count": 2,
     "metadata": {},
     "output_type": "execute_result"
    }
   ],
   "source": [
    "2+1"
   ]
  },
  {
   "cell_type": "code",
   "execution_count": 3,
   "id": "688ec6d9",
   "metadata": {},
   "outputs": [
    {
     "data": {
      "text/plain": [
       "1"
      ]
     },
     "execution_count": 3,
     "metadata": {},
     "output_type": "execute_result"
    }
   ],
   "source": [
    "2-1"
   ]
  },
  {
   "cell_type": "code",
   "execution_count": 4,
   "id": "fc9e8f1a",
   "metadata": {},
   "outputs": [
    {
     "data": {
      "text/plain": [
       "4"
      ]
     },
     "execution_count": 4,
     "metadata": {},
     "output_type": "execute_result"
    }
   ],
   "source": [
    "2*2"
   ]
  },
  {
   "cell_type": "code",
   "execution_count": 5,
   "id": "c5a9b6af",
   "metadata": {},
   "outputs": [
    {
     "data": {
      "text/plain": [
       "4"
      ]
     },
     "execution_count": 5,
     "metadata": {},
     "output_type": "execute_result"
    }
   ],
   "source": [
    "2**2"
   ]
  },
  {
   "cell_type": "code",
   "execution_count": 6,
   "id": "61617711",
   "metadata": {},
   "outputs": [
    {
     "data": {
      "text/plain": [
       "1.5"
      ]
     },
     "execution_count": 6,
     "metadata": {},
     "output_type": "execute_result"
    }
   ],
   "source": [
    "3/2"
   ]
  },
  {
   "cell_type": "code",
   "execution_count": 7,
   "id": "462a6fea",
   "metadata": {},
   "outputs": [
    {
     "data": {
      "text/plain": [
       "1.75"
      ]
     },
     "execution_count": 7,
     "metadata": {},
     "output_type": "execute_result"
    }
   ],
   "source": [
    "7/4"
   ]
  },
  {
   "cell_type": "code",
   "execution_count": 8,
   "id": "73e34952",
   "metadata": {},
   "outputs": [
    {
     "data": {
      "text/plain": [
       "3"
      ]
     },
     "execution_count": 8,
     "metadata": {},
     "output_type": "execute_result"
    }
   ],
   "source": [
    "7%4"
   ]
  },
  {
   "cell_type": "code",
   "execution_count": 9,
   "id": "87dba54a",
   "metadata": {},
   "outputs": [
    {
     "data": {
      "text/plain": [
       "1"
      ]
     },
     "execution_count": 9,
     "metadata": {},
     "output_type": "execute_result"
    }
   ],
   "source": [
    "23%2"
   ]
  },
  {
   "cell_type": "code",
   "execution_count": 10,
   "id": "75761a98",
   "metadata": {},
   "outputs": [
    {
     "data": {
      "text/plain": [
       "0"
      ]
     },
     "execution_count": 10,
     "metadata": {},
     "output_type": "execute_result"
    }
   ],
   "source": [
    "22%2"
   ]
  },
  {
   "cell_type": "code",
   "execution_count": 11,
   "id": "fc34e521",
   "metadata": {},
   "outputs": [
    {
     "data": {
      "text/plain": [
       "179769313486231590772930519078902473361797697894230657273430081157732675805500963132708477322407536021120113879871393357658789768814416622492847430639474124377767893424865485276302219601246094119453082952085005768838150682342462881473913110540827237163350510684586298239947245938479716304835356329624224137216"
      ]
     },
     "execution_count": 11,
     "metadata": {},
     "output_type": "execute_result"
    }
   ],
   "source": [
    "2 ** 1024"
   ]
  },
  {
   "cell_type": "code",
   "execution_count": 12,
   "id": "eb5a123b",
   "metadata": {},
   "outputs": [],
   "source": [
    "a = 5"
   ]
  },
  {
   "cell_type": "code",
   "execution_count": 13,
   "id": "98fe3960",
   "metadata": {},
   "outputs": [
    {
     "data": {
      "text/plain": [
       "5"
      ]
     },
     "execution_count": 13,
     "metadata": {},
     "output_type": "execute_result"
    }
   ],
   "source": [
    "a"
   ]
  },
  {
   "cell_type": "code",
   "execution_count": 14,
   "id": "3bce1b2d",
   "metadata": {},
   "outputs": [],
   "source": [
    "a = 40"
   ]
  },
  {
   "cell_type": "code",
   "execution_count": 15,
   "id": "45a06f60",
   "metadata": {},
   "outputs": [
    {
     "data": {
      "text/plain": [
       "40"
      ]
     },
     "execution_count": 15,
     "metadata": {},
     "output_type": "execute_result"
    }
   ],
   "source": [
    "a"
   ]
  },
  {
   "cell_type": "code",
   "execution_count": 16,
   "id": "2ff7dd23",
   "metadata": {},
   "outputs": [
    {
     "data": {
      "text/plain": [
       "80"
      ]
     },
     "execution_count": 16,
     "metadata": {},
     "output_type": "execute_result"
    }
   ],
   "source": [
    "a+a"
   ]
  },
  {
   "cell_type": "code",
   "execution_count": 17,
   "id": "dc393f9b",
   "metadata": {},
   "outputs": [
    {
     "data": {
      "text/plain": [
       "int"
      ]
     },
     "execution_count": 17,
     "metadata": {},
     "output_type": "execute_result"
    }
   ],
   "source": [
    "type(a)"
   ]
  },
  {
   "cell_type": "code",
   "execution_count": null,
   "id": "99f341a7",
   "metadata": {},
   "outputs": [],
   "source": []
  },
  {
   "cell_type": "code",
   "execution_count": 18,
   "id": "f4d67e1f",
   "metadata": {},
   "outputs": [
    {
     "data": {
      "text/plain": [
       "int"
      ]
     },
     "execution_count": 18,
     "metadata": {},
     "output_type": "execute_result"
    }
   ],
   "source": [
    "int"
   ]
  },
  {
   "cell_type": "code",
   "execution_count": 19,
   "id": "f154d5c6",
   "metadata": {},
   "outputs": [
    {
     "data": {
      "text/plain": [
       "40"
      ]
     },
     "execution_count": 19,
     "metadata": {},
     "output_type": "execute_result"
    }
   ],
   "source": [
    "a"
   ]
  },
  {
   "cell_type": "code",
   "execution_count": null,
   "id": "d2e6c8bf",
   "metadata": {},
   "outputs": [],
   "source": []
  },
  {
   "cell_type": "code",
   "execution_count": 20,
   "id": "26407101",
   "metadata": {},
   "outputs": [
    {
     "data": {
      "text/plain": [
       "'testing string'"
      ]
     },
     "execution_count": 20,
     "metadata": {},
     "output_type": "execute_result"
    }
   ],
   "source": [
    "\"testing string\""
   ]
  },
  {
   "cell_type": "code",
   "execution_count": 21,
   "id": "c5050a5d",
   "metadata": {},
   "outputs": [],
   "source": [
    "b = \"testing string\""
   ]
  },
  {
   "cell_type": "code",
   "execution_count": 22,
   "id": "9546a92d",
   "metadata": {},
   "outputs": [
    {
     "data": {
      "text/plain": [
       "14"
      ]
     },
     "execution_count": 22,
     "metadata": {},
     "output_type": "execute_result"
    }
   ],
   "source": [
    "len(b)"
   ]
  },
  {
   "cell_type": "code",
   "execution_count": 23,
   "id": "af4f4fb2",
   "metadata": {},
   "outputs": [
    {
     "data": {
      "text/plain": [
       "'e'"
      ]
     },
     "execution_count": 23,
     "metadata": {},
     "output_type": "execute_result"
    }
   ],
   "source": [
    "b[1]"
   ]
  },
  {
   "cell_type": "code",
   "execution_count": 24,
   "id": "e446c958",
   "metadata": {},
   "outputs": [
    {
     "data": {
      "text/plain": [
       "'e'"
      ]
     },
     "execution_count": 24,
     "metadata": {},
     "output_type": "execute_result"
    }
   ],
   "source": [
    "b[1]"
   ]
  },
  {
   "cell_type": "code",
   "execution_count": 25,
   "id": "f3bf4479",
   "metadata": {},
   "outputs": [
    {
     "data": {
      "text/plain": [
       "'esti'"
      ]
     },
     "execution_count": 25,
     "metadata": {},
     "output_type": "execute_result"
    }
   ],
   "source": [
    "b[1:5]"
   ]
  },
  {
   "cell_type": "code",
   "execution_count": 26,
   "id": "231b863e",
   "metadata": {},
   "outputs": [
    {
     "data": {
      "text/plain": [
       "'et'"
      ]
     },
     "execution_count": 26,
     "metadata": {},
     "output_type": "execute_result"
    }
   ],
   "source": [
    "b[1:5:2]"
   ]
  },
  {
   "cell_type": "code",
   "execution_count": 27,
   "id": "3fc556fd",
   "metadata": {},
   "outputs": [
    {
     "data": {
      "text/plain": [
       "''"
      ]
     },
     "execution_count": 27,
     "metadata": {},
     "output_type": "execute_result"
    }
   ],
   "source": [
    "b[-1:-3]"
   ]
  },
  {
   "cell_type": "code",
   "execution_count": 28,
   "id": "3579e016",
   "metadata": {},
   "outputs": [
    {
     "data": {
      "text/plain": [
       "'g'"
      ]
     },
     "execution_count": 28,
     "metadata": {},
     "output_type": "execute_result"
    }
   ],
   "source": [
    "b[-1]"
   ]
  },
  {
   "cell_type": "code",
   "execution_count": 29,
   "id": "c0a633a0",
   "metadata": {},
   "outputs": [
    {
     "data": {
      "text/plain": [
       "'i'"
      ]
     },
     "execution_count": 29,
     "metadata": {},
     "output_type": "execute_result"
    }
   ],
   "source": [
    "b[-3]"
   ]
  },
  {
   "cell_type": "code",
   "execution_count": 30,
   "id": "bcf3f911",
   "metadata": {},
   "outputs": [
    {
     "data": {
      "text/plain": [
       "'g'"
      ]
     },
     "execution_count": 30,
     "metadata": {},
     "output_type": "execute_result"
    }
   ],
   "source": [
    "b[-1:]"
   ]
  },
  {
   "cell_type": "code",
   "execution_count": 31,
   "id": "b2cfb1e1",
   "metadata": {},
   "outputs": [
    {
     "data": {
      "text/plain": [
       "'sting string'"
      ]
     },
     "execution_count": 31,
     "metadata": {},
     "output_type": "execute_result"
    }
   ],
   "source": [
    "b[2:]"
   ]
  },
  {
   "cell_type": "code",
   "execution_count": 32,
   "id": "d9d359a8",
   "metadata": {},
   "outputs": [
    {
     "data": {
      "text/plain": [
       "'testing strin'"
      ]
     },
     "execution_count": 32,
     "metadata": {},
     "output_type": "execute_result"
    }
   ],
   "source": [
    "b[:-1]"
   ]
  },
  {
   "cell_type": "code",
   "execution_count": 33,
   "id": "747b74d5",
   "metadata": {},
   "outputs": [
    {
     "data": {
      "text/plain": [
       "'g'"
      ]
     },
     "execution_count": 33,
     "metadata": {},
     "output_type": "execute_result"
    }
   ],
   "source": [
    "b[-1::]"
   ]
  },
  {
   "cell_type": "code",
   "execution_count": 34,
   "id": "bf8a9e39",
   "metadata": {},
   "outputs": [
    {
     "data": {
      "text/plain": [
       "''"
      ]
     },
     "execution_count": 34,
     "metadata": {},
     "output_type": "execute_result"
    }
   ],
   "source": [
    "b[-1:0:]"
   ]
  },
  {
   "cell_type": "code",
   "execution_count": 35,
   "id": "87ca1777",
   "metadata": {},
   "outputs": [
    {
     "data": {
      "text/plain": [
       "''"
      ]
     },
     "execution_count": 35,
     "metadata": {},
     "output_type": "execute_result"
    }
   ],
   "source": [
    "b[-1:0]"
   ]
  },
  {
   "cell_type": "code",
   "execution_count": 36,
   "id": "3ac6dac8",
   "metadata": {},
   "outputs": [
    {
     "data": {
      "text/plain": [
       "'gnirts gnitset'"
      ]
     },
     "execution_count": 36,
     "metadata": {},
     "output_type": "execute_result"
    }
   ],
   "source": [
    "b[::-1]"
   ]
  },
  {
   "cell_type": "markdown",
   "id": "36e4ef1a",
   "metadata": {},
   "source": [
    "<h4>String Methods</h4>"
   ]
  },
  {
   "cell_type": "code",
   "execution_count": 37,
   "id": "2ee4eba4",
   "metadata": {},
   "outputs": [],
   "source": [
    "name = \"lassan mama\""
   ]
  },
  {
   "cell_type": "code",
   "execution_count": 38,
   "id": "19ba03ad",
   "metadata": {},
   "outputs": [
    {
     "data": {
      "text/plain": [
       "'lassan mama'"
      ]
     },
     "execution_count": 38,
     "metadata": {},
     "output_type": "execute_result"
    }
   ],
   "source": [
    "name"
   ]
  },
  {
   "cell_type": "code",
   "execution_count": 39,
   "id": "e7820123",
   "metadata": {},
   "outputs": [
    {
     "data": {
      "text/plain": [
       "'assan mama'"
      ]
     },
     "execution_count": 39,
     "metadata": {},
     "output_type": "execute_result"
    }
   ],
   "source": [
    "name[1:]"
   ]
  },
  {
   "cell_type": "code",
   "execution_count": 40,
   "id": "00e28c17",
   "metadata": {},
   "outputs": [],
   "source": [
    "surname = \"lol\""
   ]
  },
  {
   "cell_type": "code",
   "execution_count": 41,
   "id": "6801ded0",
   "metadata": {},
   "outputs": [
    {
     "data": {
      "text/plain": [
       "'lassan mamalol'"
      ]
     },
     "execution_count": 41,
     "metadata": {},
     "output_type": "execute_result"
    }
   ],
   "source": [
    "name + surname"
   ]
  },
  {
   "cell_type": "code",
   "execution_count": 42,
   "id": "8cd48612",
   "metadata": {},
   "outputs": [],
   "source": [
    "fullname = name + \" \" + surname"
   ]
  },
  {
   "cell_type": "code",
   "execution_count": 43,
   "id": "abe8b6ee",
   "metadata": {},
   "outputs": [
    {
     "data": {
      "text/plain": [
       "'lassan mama lol'"
      ]
     },
     "execution_count": 43,
     "metadata": {},
     "output_type": "execute_result"
    }
   ],
   "source": [
    "fullname"
   ]
  },
  {
   "cell_type": "code",
   "execution_count": 44,
   "id": "46ab81c1",
   "metadata": {},
   "outputs": [
    {
     "data": {
      "text/plain": [
       "'lassan mama lollassan mama lol'"
      ]
     },
     "execution_count": 44,
     "metadata": {},
     "output_type": "execute_result"
    }
   ],
   "source": [
    "fullname * 2"
   ]
  },
  {
   "cell_type": "code",
   "execution_count": 45,
   "id": "25c3ef6c",
   "metadata": {},
   "outputs": [
    {
     "data": {
      "text/plain": [
       "'23'"
      ]
     },
     "execution_count": 45,
     "metadata": {},
     "output_type": "execute_result"
    }
   ],
   "source": [
    "'2' + '3'"
   ]
  },
  {
   "cell_type": "code",
   "execution_count": 46,
   "id": "7484905c",
   "metadata": {},
   "outputs": [
    {
     "data": {
      "text/plain": [
       "'Lassan mama lol'"
      ]
     },
     "execution_count": 46,
     "metadata": {},
     "output_type": "execute_result"
    }
   ],
   "source": [
    "fullname.capitalize()"
   ]
  },
  {
   "cell_type": "code",
   "execution_count": 47,
   "id": "293e8686",
   "metadata": {},
   "outputs": [
    {
     "data": {
      "text/plain": [
       "'lassan mama lol'"
      ]
     },
     "execution_count": 47,
     "metadata": {},
     "output_type": "execute_result"
    }
   ],
   "source": [
    "fullname.casefold()"
   ]
  },
  {
   "cell_type": "code",
   "execution_count": 48,
   "id": "f77cd98a",
   "metadata": {},
   "outputs": [
    {
     "data": {
      "text/plain": [
       "'lassan mama lol'"
      ]
     },
     "execution_count": 48,
     "metadata": {},
     "output_type": "execute_result"
    }
   ],
   "source": [
    "fullname.center(1)"
   ]
  },
  {
   "cell_type": "code",
   "execution_count": 49,
   "id": "758b9ea1",
   "metadata": {},
   "outputs": [
    {
     "data": {
      "text/plain": [
       "4"
      ]
     },
     "execution_count": 49,
     "metadata": {},
     "output_type": "execute_result"
    }
   ],
   "source": [
    "fullname.count('a')"
   ]
  },
  {
   "cell_type": "code",
   "execution_count": 50,
   "id": "23b15ca4",
   "metadata": {},
   "outputs": [
    {
     "data": {
      "text/plain": [
       "b'lassan mama lol'"
      ]
     },
     "execution_count": 50,
     "metadata": {},
     "output_type": "execute_result"
    }
   ],
   "source": [
    "fullname.encode()"
   ]
  },
  {
   "cell_type": "code",
   "execution_count": 51,
   "id": "2cc635e3",
   "metadata": {},
   "outputs": [
    {
     "data": {
      "text/plain": [
       "False"
      ]
     },
     "execution_count": 51,
     "metadata": {},
     "output_type": "execute_result"
    }
   ],
   "source": [
    "fullname.endswith('o')"
   ]
  },
  {
   "cell_type": "code",
   "execution_count": 52,
   "id": "08d4ce6a",
   "metadata": {},
   "outputs": [
    {
     "data": {
      "text/plain": [
       "True"
      ]
     },
     "execution_count": 52,
     "metadata": {},
     "output_type": "execute_result"
    }
   ],
   "source": [
    "fullname.endswith('l')"
   ]
  },
  {
   "cell_type": "code",
   "execution_count": 53,
   "id": "d963c935",
   "metadata": {},
   "outputs": [
    {
     "data": {
      "text/plain": [
       "'lassan mama lol'"
      ]
     },
     "execution_count": 53,
     "metadata": {},
     "output_type": "execute_result"
    }
   ],
   "source": [
    "fullname.expandtabs()"
   ]
  },
  {
   "cell_type": "code",
   "execution_count": 54,
   "id": "25334883",
   "metadata": {},
   "outputs": [
    {
     "data": {
      "text/plain": [
       "7"
      ]
     },
     "execution_count": 54,
     "metadata": {},
     "output_type": "execute_result"
    }
   ],
   "source": [
    "fullname.find('mama')"
   ]
  },
  {
   "cell_type": "code",
   "execution_count": 55,
   "id": "e47ed3bd",
   "metadata": {},
   "outputs": [
    {
     "data": {
      "text/plain": [
       "False"
      ]
     },
     "execution_count": 55,
     "metadata": {},
     "output_type": "execute_result"
    }
   ],
   "source": [
    "fullname.isalnum()"
   ]
  },
  {
   "cell_type": "code",
   "execution_count": 56,
   "id": "bbc696ca",
   "metadata": {},
   "outputs": [
    {
     "data": {
      "text/plain": [
       "False"
      ]
     },
     "execution_count": 56,
     "metadata": {},
     "output_type": "execute_result"
    }
   ],
   "source": [
    "fullname.isalpha()"
   ]
  },
  {
   "cell_type": "code",
   "execution_count": 57,
   "id": "d9bc991f",
   "metadata": {},
   "outputs": [
    {
     "data": {
      "text/plain": [
       "True"
      ]
     },
     "execution_count": 57,
     "metadata": {},
     "output_type": "execute_result"
    }
   ],
   "source": [
    "fullname.isascii()"
   ]
  },
  {
   "cell_type": "code",
   "execution_count": 58,
   "id": "72a7208b",
   "metadata": {},
   "outputs": [
    {
     "data": {
      "text/plain": [
       "True"
      ]
     },
     "execution_count": 58,
     "metadata": {},
     "output_type": "execute_result"
    }
   ],
   "source": [
    "fullname.islower()"
   ]
  },
  {
   "cell_type": "code",
   "execution_count": 59,
   "id": "211343d7",
   "metadata": {},
   "outputs": [
    {
     "data": {
      "text/plain": [
       "'slassan mama lolslassan mama lols'"
      ]
     },
     "execution_count": 59,
     "metadata": {},
     "output_type": "execute_result"
    }
   ],
   "source": [
    "fullname.join('sss')"
   ]
  },
  {
   "cell_type": "code",
   "execution_count": 60,
   "id": "edc5e8ee",
   "metadata": {},
   "outputs": [
    {
     "data": {
      "text/plain": [
       "['lassan', 'mama', 'lol']"
      ]
     },
     "execution_count": 60,
     "metadata": {},
     "output_type": "execute_result"
    }
   ],
   "source": [
    "fullname.split()"
   ]
  },
  {
   "cell_type": "code",
   "execution_count": 61,
   "id": "931a0eda",
   "metadata": {},
   "outputs": [
    {
     "data": {
      "text/plain": [
       "'LASSAN MAMA LOL'"
      ]
     },
     "execution_count": 61,
     "metadata": {},
     "output_type": "execute_result"
    }
   ],
   "source": [
    "fullname.swapcase()"
   ]
  },
  {
   "cell_type": "code",
   "execution_count": 62,
   "id": "44b78bb2",
   "metadata": {},
   "outputs": [
    {
     "data": {
      "text/plain": [
       "'Lassan Mama Lol'"
      ]
     },
     "execution_count": 62,
     "metadata": {},
     "output_type": "execute_result"
    }
   ],
   "source": [
    "fullname.title()"
   ]
  },
  {
   "cell_type": "code",
   "execution_count": 63,
   "id": "cd2f0e1e",
   "metadata": {},
   "outputs": [
    {
     "name": "stdout",
     "output_type": "stream",
     "text": [
      "he this is STRING\n"
     ]
    }
   ],
   "source": [
    "print('he this is {}'.format('STRING'))"
   ]
  },
  {
   "cell_type": "code",
   "execution_count": 64,
   "id": "47ed0164",
   "metadata": {},
   "outputs": [
    {
     "name": "stdout",
     "output_type": "stream",
     "text": [
      "the fox brown quick\n"
     ]
    }
   ],
   "source": [
    "print('the {} {} {}'.format('fox', 'brown', 'quick'))"
   ]
  },
  {
   "cell_type": "code",
   "execution_count": 65,
   "id": "8a2987f7",
   "metadata": {},
   "outputs": [
    {
     "name": "stdout",
     "output_type": "stream",
     "text": [
      "the quick brown fox\n"
     ]
    }
   ],
   "source": [
    "print('the {2} {1} {0}'.format('fox', 'brown', 'quick'))"
   ]
  },
  {
   "cell_type": "code",
   "execution_count": 66,
   "id": "c53671ae",
   "metadata": {},
   "outputs": [
    {
     "name": "stdout",
     "output_type": "stream",
     "text": [
      "the quick brown fox\n"
     ]
    }
   ],
   "source": [
    "print('the {q} {b} {f}'.format(f='fox', b='brown', q='quick'))"
   ]
  },
  {
   "cell_type": "code",
   "execution_count": 67,
   "id": "dd01211b",
   "metadata": {},
   "outputs": [],
   "source": [
    "result = 100/777"
   ]
  },
  {
   "cell_type": "code",
   "execution_count": 68,
   "id": "72e113d8",
   "metadata": {},
   "outputs": [
    {
     "name": "stdout",
     "output_type": "stream",
     "text": [
      "Result: 0.1287001287001287\n"
     ]
    }
   ],
   "source": [
    "print('Result: {r}'.format(r=result))"
   ]
  },
  {
   "cell_type": "code",
   "execution_count": 69,
   "id": "644fb8a2",
   "metadata": {},
   "outputs": [
    {
     "name": "stdout",
     "output_type": "stream",
     "text": [
      "Result: 0.129\n"
     ]
    }
   ],
   "source": [
    "print('Result: {r:.3}'.format(r=result))"
   ]
  },
  {
   "cell_type": "code",
   "execution_count": 70,
   "id": "c895e7ea",
   "metadata": {},
   "outputs": [
    {
     "name": "stdout",
     "output_type": "stream",
     "text": [
      "Result:                                                                                               0.1287\n"
     ]
    }
   ],
   "source": [
    "print('Result: {r:100.4}'.format(r=result))"
   ]
  },
  {
   "cell_type": "code",
   "execution_count": 71,
   "id": "463d1c39",
   "metadata": {},
   "outputs": [
    {
     "name": "stdout",
     "output_type": "stream",
     "text": [
      "Result:                                                                                           0.12870013\n"
     ]
    }
   ],
   "source": [
    "print('Result: {r:100.8}'.format(r=result))"
   ]
  },
  {
   "cell_type": "code",
   "execution_count": 72,
   "id": "fc66881e",
   "metadata": {},
   "outputs": [
    {
     "name": "stdout",
     "output_type": "stream",
     "text": [
      "Result:                                                                                               0.1287\n"
     ]
    }
   ],
   "source": [
    "print('Result: {r:100.4f}'.format(r=result))"
   ]
  },
  {
   "cell_type": "markdown",
   "id": "98c85f22",
   "metadata": {},
   "source": [
    "<h4>Lists</h4>"
   ]
  },
  {
   "cell_type": "code",
   "execution_count": 73,
   "id": "c56508cc",
   "metadata": {},
   "outputs": [],
   "source": [
    "my_lst = [1,3,5]"
   ]
  },
  {
   "cell_type": "code",
   "execution_count": 74,
   "id": "f5e31fae",
   "metadata": {},
   "outputs": [
    {
     "data": {
      "text/plain": [
       "3"
      ]
     },
     "execution_count": 74,
     "metadata": {},
     "output_type": "execute_result"
    }
   ],
   "source": [
    "len(my_lst)"
   ]
  },
  {
   "cell_type": "code",
   "execution_count": 75,
   "id": "01917f28",
   "metadata": {},
   "outputs": [
    {
     "data": {
      "text/plain": [
       "5"
      ]
     },
     "execution_count": 75,
     "metadata": {},
     "output_type": "execute_result"
    }
   ],
   "source": [
    "my_lst[-1]"
   ]
  },
  {
   "cell_type": "markdown",
   "id": "bf797e82",
   "metadata": {},
   "source": [
    "<h4>Dictionaries</h4>"
   ]
  },
  {
   "cell_type": "code",
   "execution_count": 76,
   "id": "82355a42",
   "metadata": {},
   "outputs": [],
   "source": [
    "my_dict = {'key1':1,'key2':3}"
   ]
  },
  {
   "cell_type": "code",
   "execution_count": 77,
   "id": "c9468fea",
   "metadata": {},
   "outputs": [
    {
     "data": {
      "text/plain": [
       "1"
      ]
     },
     "execution_count": 77,
     "metadata": {},
     "output_type": "execute_result"
    }
   ],
   "source": [
    "my_dict['key1']"
   ]
  },
  {
   "cell_type": "code",
   "execution_count": 78,
   "id": "d63b7e2e",
   "metadata": {},
   "outputs": [],
   "source": [
    "prices = {'apples': 111, 'oranges': 50, 'mango': 50 }"
   ]
  },
  {
   "cell_type": "code",
   "execution_count": 79,
   "id": "ca3cc96a",
   "metadata": {},
   "outputs": [
    {
     "data": {
      "text/plain": [
       "111"
      ]
     },
     "execution_count": 79,
     "metadata": {},
     "output_type": "execute_result"
    }
   ],
   "source": [
    "prices['apples']"
   ]
  },
  {
   "cell_type": "code",
   "execution_count": 80,
   "id": "914365a6",
   "metadata": {},
   "outputs": [],
   "source": [
    "prices['dragon'] = [1,2,3]"
   ]
  },
  {
   "cell_type": "code",
   "execution_count": 81,
   "id": "36f47974",
   "metadata": {},
   "outputs": [
    {
     "data": {
      "text/plain": [
       "[1, 2, 3]"
      ]
     },
     "execution_count": 81,
     "metadata": {},
     "output_type": "execute_result"
    }
   ],
   "source": [
    "prices['dragon']"
   ]
  },
  {
   "cell_type": "code",
   "execution_count": 82,
   "id": "d521dd0c",
   "metadata": {},
   "outputs": [
    {
     "data": {
      "text/plain": [
       "{'apples': 111, 'oranges': 50, 'mango': 50, 'dragon': [1, 2, 3]}"
      ]
     },
     "execution_count": 82,
     "metadata": {},
     "output_type": "execute_result"
    }
   ],
   "source": [
    "prices"
   ]
  },
  {
   "cell_type": "code",
   "execution_count": 83,
   "id": "c70ea907",
   "metadata": {},
   "outputs": [
    {
     "data": {
      "text/plain": [
       "dict_keys(['apples', 'oranges', 'mango', 'dragon'])"
      ]
     },
     "execution_count": 83,
     "metadata": {},
     "output_type": "execute_result"
    }
   ],
   "source": [
    "prices.keys()"
   ]
  },
  {
   "cell_type": "code",
   "execution_count": 84,
   "id": "5182d8a9",
   "metadata": {},
   "outputs": [
    {
     "data": {
      "text/plain": [
       "dict_values([111, 50, 50, [1, 2, 3]])"
      ]
     },
     "execution_count": 84,
     "metadata": {},
     "output_type": "execute_result"
    }
   ],
   "source": [
    "prices.values()"
   ]
  },
  {
   "cell_type": "code",
   "execution_count": 85,
   "id": "4d41dc27",
   "metadata": {},
   "outputs": [
    {
     "data": {
      "text/plain": [
       "dict_items([('apples', 111), ('oranges', 50), ('mango', 50), ('dragon', [1, 2, 3])])"
      ]
     },
     "execution_count": 85,
     "metadata": {},
     "output_type": "execute_result"
    }
   ],
   "source": [
    "prices.items()"
   ]
  },
  {
   "cell_type": "markdown",
   "id": "e30ce271",
   "metadata": {},
   "source": [
    "<h4>Tuples</h4>"
   ]
  },
  {
   "cell_type": "code",
   "execution_count": 86,
   "id": "26dd09ea",
   "metadata": {},
   "outputs": [],
   "source": [
    "my_tuple = (1,'two', 3.0)"
   ]
  },
  {
   "cell_type": "code",
   "execution_count": 87,
   "id": "662792f8",
   "metadata": {},
   "outputs": [
    {
     "data": {
      "text/plain": [
       "(1, 'two', 3.0)"
      ]
     },
     "execution_count": 87,
     "metadata": {},
     "output_type": "execute_result"
    }
   ],
   "source": [
    "my_tuple"
   ]
  },
  {
   "cell_type": "code",
   "execution_count": 88,
   "id": "f1a094f4",
   "metadata": {},
   "outputs": [
    {
     "data": {
      "text/plain": [
       "'two'"
      ]
     },
     "execution_count": 88,
     "metadata": {},
     "output_type": "execute_result"
    }
   ],
   "source": [
    "my_tuple[1]"
   ]
  },
  {
   "cell_type": "markdown",
   "id": "01e8d099",
   "metadata": {},
   "source": [
    "<h4>Sets</h4>"
   ]
  },
  {
   "cell_type": "code",
   "execution_count": 89,
   "id": "064941f7",
   "metadata": {},
   "outputs": [],
   "source": [
    "my_set = {1,3,5,5,5}"
   ]
  },
  {
   "cell_type": "code",
   "execution_count": 90,
   "id": "242f7ab6",
   "metadata": {},
   "outputs": [
    {
     "data": {
      "text/plain": [
       "{1, 3, 5}"
      ]
     },
     "execution_count": 90,
     "metadata": {},
     "output_type": "execute_result"
    }
   ],
   "source": [
    "my_set"
   ]
  },
  {
   "cell_type": "code",
   "execution_count": 91,
   "id": "08217f2d",
   "metadata": {},
   "outputs": [],
   "source": [
    "my_set.add(44)"
   ]
  },
  {
   "cell_type": "code",
   "execution_count": 92,
   "id": "496e57e2",
   "metadata": {},
   "outputs": [
    {
     "data": {
      "text/plain": [
       "{1, 3, 5, 44}"
      ]
     },
     "execution_count": 92,
     "metadata": {},
     "output_type": "execute_result"
    }
   ],
   "source": [
    "my_set"
   ]
  },
  {
   "cell_type": "markdown",
   "id": "cd20f679",
   "metadata": {},
   "source": [
    "<h4>Booleans</h4>"
   ]
  },
  {
   "cell_type": "code",
   "execution_count": 93,
   "id": "6f0501c0",
   "metadata": {},
   "outputs": [
    {
     "data": {
      "text/plain": [
       "True"
      ]
     },
     "execution_count": 93,
     "metadata": {},
     "output_type": "execute_result"
    }
   ],
   "source": [
    "True"
   ]
  },
  {
   "cell_type": "code",
   "execution_count": 94,
   "id": "89b2160c",
   "metadata": {},
   "outputs": [
    {
     "data": {
      "text/plain": [
       "False"
      ]
     },
     "execution_count": 94,
     "metadata": {},
     "output_type": "execute_result"
    }
   ],
   "source": [
    "False"
   ]
  },
  {
   "cell_type": "code",
   "execution_count": 95,
   "id": "830f0cf6",
   "metadata": {},
   "outputs": [
    {
     "data": {
      "text/plain": [
       "bool"
      ]
     },
     "execution_count": 95,
     "metadata": {},
     "output_type": "execute_result"
    }
   ],
   "source": [
    "type(1>2)"
   ]
  },
  {
   "cell_type": "code",
   "execution_count": 96,
   "id": "d285bad0",
   "metadata": {},
   "outputs": [
    {
     "data": {
      "text/plain": [
       "False"
      ]
     },
     "execution_count": 96,
     "metadata": {},
     "output_type": "execute_result"
    }
   ],
   "source": [
    "1>4"
   ]
  },
  {
   "cell_type": "code",
   "execution_count": 97,
   "id": "43e21512",
   "metadata": {},
   "outputs": [
    {
     "data": {
      "text/plain": [
       "True"
      ]
     },
     "execution_count": 97,
     "metadata": {},
     "output_type": "execute_result"
    }
   ],
   "source": [
    "1==1"
   ]
  },
  {
   "cell_type": "code",
   "execution_count": 98,
   "id": "14de99de",
   "metadata": {},
   "outputs": [
    {
     "data": {
      "text/plain": [
       "True"
      ]
     },
     "execution_count": 98,
     "metadata": {},
     "output_type": "execute_result"
    }
   ],
   "source": [
    "1<=3"
   ]
  },
  {
   "cell_type": "markdown",
   "id": "02e61a3c",
   "metadata": {},
   "source": [
    "<h4>I/O with basic files</h4>"
   ]
  },
  {
   "cell_type": "code",
   "execution_count": 99,
   "id": "e1b73036",
   "metadata": {},
   "outputs": [
    {
     "name": "stdout",
     "output_type": "stream",
     "text": [
      "Overwriting testinWriteFile.txt\n"
     ]
    }
   ],
   "source": [
    "%%writefile testinWriteFile.txt\n",
    "hello this is\n",
    "a write function \n",
    "testing file"
   ]
  },
  {
   "cell_type": "code",
   "execution_count": 100,
   "id": "02fcad31",
   "metadata": {},
   "outputs": [],
   "source": [
    "myFile = open('test-Copy1.txt')"
   ]
  },
  {
   "cell_type": "code",
   "execution_count": 101,
   "id": "83d50291",
   "metadata": {},
   "outputs": [
    {
     "data": {
      "text/plain": [
       "<_io.TextIOWrapper name='test-Copy1.txt' mode='r' encoding='cp1252'>"
      ]
     },
     "execution_count": 101,
     "metadata": {},
     "output_type": "execute_result"
    }
   ],
   "source": [
    "myFile"
   ]
  },
  {
   "cell_type": "code",
   "execution_count": 102,
   "id": "0a4d2ca6",
   "metadata": {},
   "outputs": [
    {
     "data": {
      "text/plain": [
       "'First Line\\nSecond Line'"
      ]
     },
     "execution_count": 102,
     "metadata": {},
     "output_type": "execute_result"
    }
   ],
   "source": [
    "myFile.read()"
   ]
  },
  {
   "cell_type": "code",
   "execution_count": 103,
   "id": "a1967315",
   "metadata": {},
   "outputs": [
    {
     "data": {
      "text/plain": [
       "'First Line\\n'"
      ]
     },
     "execution_count": 103,
     "metadata": {},
     "output_type": "execute_result"
    }
   ],
   "source": [
    "myFile.seek(0)\n",
    "myFile.readline()"
   ]
  },
  {
   "cell_type": "code",
   "execution_count": 104,
   "id": "b0236831",
   "metadata": {},
   "outputs": [
    {
     "data": {
      "text/plain": [
       "['Second Line']"
      ]
     },
     "execution_count": 104,
     "metadata": {},
     "output_type": "execute_result"
    }
   ],
   "source": [
    "myFile.readlines()"
   ]
  },
  {
   "cell_type": "code",
   "execution_count": 105,
   "id": "6bd68f7d",
   "metadata": {},
   "outputs": [
    {
     "data": {
      "text/plain": [
       "['First Line\\n', 'Second Line']"
      ]
     },
     "execution_count": 105,
     "metadata": {},
     "output_type": "execute_result"
    }
   ],
   "source": [
    "myFile.seek(0)\n",
    "myFile.readlines()"
   ]
  },
  {
   "cell_type": "code",
   "execution_count": 106,
   "id": "f229b910",
   "metadata": {},
   "outputs": [],
   "source": [
    "myFile.close()"
   ]
  },
  {
   "cell_type": "code",
   "execution_count": 107,
   "id": "68073d86",
   "metadata": {},
   "outputs": [],
   "source": [
    "with open('test-Copy1.txt') as newFile:\n",
    "    contents = newFile.read()\n",
    "    "
   ]
  },
  {
   "cell_type": "code",
   "execution_count": 108,
   "id": "b673985e",
   "metadata": {},
   "outputs": [
    {
     "data": {
      "text/plain": [
       "'First Line\\nSecond Line'"
      ]
     },
     "execution_count": 108,
     "metadata": {},
     "output_type": "execute_result"
    }
   ],
   "source": [
    "contents"
   ]
  },
  {
   "cell_type": "code",
   "execution_count": 109,
   "id": "b0b3db05",
   "metadata": {},
   "outputs": [],
   "source": [
    "with open('newWriteFile', 'w') as newWriteFile:\n",
    "    newWriteFile.writelines(['lossan'])"
   ]
  },
  {
   "cell_type": "code",
   "execution_count": 110,
   "id": "93c381dd",
   "metadata": {},
   "outputs": [],
   "source": [
    "with open('newWriteFile', 'r') as newWriteFile:\n",
    "    contentNew = newWriteFile.read()"
   ]
  },
  {
   "cell_type": "code",
   "execution_count": 111,
   "id": "b8408247",
   "metadata": {},
   "outputs": [
    {
     "data": {
      "text/plain": [
       "'lossan'"
      ]
     },
     "execution_count": 111,
     "metadata": {},
     "output_type": "execute_result"
    }
   ],
   "source": [
    "contentNew"
   ]
  },
  {
   "cell_type": "markdown",
   "id": "d4b47c5b",
   "metadata": {},
   "source": [
    "<h3>Python Statements</h3>"
   ]
  },
  {
   "cell_type": "code",
   "execution_count": 112,
   "id": "1fb0c92c",
   "metadata": {},
   "outputs": [],
   "source": [
    "N = 11"
   ]
  },
  {
   "cell_type": "code",
   "execution_count": 113,
   "id": "2c1ab2fa",
   "metadata": {},
   "outputs": [
    {
     "name": "stdout",
     "output_type": "stream",
     "text": [
      "11 is an odd number.\n"
     ]
    }
   ],
   "source": [
    "if N % 2 == 0:\n",
    "    print('{} is an even number.'.format(N))\n",
    "else:\n",
    "    print('{} is an odd number.'.format(N))"
   ]
  },
  {
   "cell_type": "code",
   "execution_count": 114,
   "id": "e3b503b8",
   "metadata": {},
   "outputs": [
    {
     "data": {
      "text/plain": [
       "[1, 3, 5]"
      ]
     },
     "execution_count": 114,
     "metadata": {},
     "output_type": "execute_result"
    }
   ],
   "source": [
    "my_lst"
   ]
  },
  {
   "cell_type": "code",
   "execution_count": 115,
   "id": "6d8a6dd7",
   "metadata": {},
   "outputs": [
    {
     "name": "stdout",
     "output_type": "stream",
     "text": [
      "1\n",
      "3\n",
      "5\n"
     ]
    }
   ],
   "source": [
    "for item in my_lst:\n",
    "    print(item)"
   ]
  },
  {
   "cell_type": "code",
   "execution_count": 116,
   "id": "90d69693",
   "metadata": {},
   "outputs": [],
   "source": [
    "my_lst += [8,10,12,13,15,16]"
   ]
  },
  {
   "cell_type": "code",
   "execution_count": 117,
   "id": "6141df22",
   "metadata": {},
   "outputs": [
    {
     "data": {
      "text/plain": [
       "[1, 3, 5, 8, 10, 12, 13, 15, 16]"
      ]
     },
     "execution_count": 117,
     "metadata": {},
     "output_type": "execute_result"
    }
   ],
   "source": [
    "my_lst"
   ]
  },
  {
   "cell_type": "code",
   "execution_count": 118,
   "id": "d5addde8",
   "metadata": {},
   "outputs": [
    {
     "name": "stdout",
     "output_type": "stream",
     "text": [
      "8\n",
      "10\n",
      "12\n",
      "16\n"
     ]
    }
   ],
   "source": [
    "for num in my_lst:\n",
    "    if num % 2 == 0:\n",
    "        print(num)"
   ]
  },
  {
   "cell_type": "code",
   "execution_count": 119,
   "id": "25bc3041",
   "metadata": {},
   "outputs": [
    {
     "name": "stdout",
     "output_type": "stream",
     "text": [
      "55\n"
     ]
    }
   ],
   "source": [
    "lst_sum = 0\n",
    "for i in [1,2,3,4,5,6,7,8,9,10]:\n",
    "    lst_sum += i\n",
    "print(lst_sum)"
   ]
  },
  {
   "cell_type": "code",
   "execution_count": 120,
   "id": "d275cc37",
   "metadata": {},
   "outputs": [
    {
     "name": "stdout",
     "output_type": "stream",
     "text": [
      "(1, 2)\n",
      "(3, 4)\n"
     ]
    }
   ],
   "source": [
    "my_tup_list = [(1,2), (3,4)]\n",
    "for item in my_tup_list:\n",
    "    print(item)"
   ]
  },
  {
   "cell_type": "code",
   "execution_count": 121,
   "id": "c4ebc12c",
   "metadata": {},
   "outputs": [
    {
     "name": "stdout",
     "output_type": "stream",
     "text": [
      "1\n",
      "2\n",
      "3\n",
      "4\n"
     ]
    }
   ],
   "source": [
    "\n",
    "for (a,b) in my_tup_list:\n",
    "    print(a)\n",
    "    print(b)"
   ]
  },
  {
   "cell_type": "code",
   "execution_count": 122,
   "id": "97397f6e",
   "metadata": {},
   "outputs": [
    {
     "data": {
      "text/plain": [
       "{'key1': 1, 'key2': 3}"
      ]
     },
     "execution_count": 122,
     "metadata": {},
     "output_type": "execute_result"
    }
   ],
   "source": [
    "my_dict"
   ]
  },
  {
   "cell_type": "code",
   "execution_count": 123,
   "id": "88a93712",
   "metadata": {},
   "outputs": [
    {
     "name": "stdout",
     "output_type": "stream",
     "text": [
      "1\n",
      "3\n"
     ]
    }
   ],
   "source": [
    "for val in my_dict.values():\n",
    "    print(val)"
   ]
  },
  {
   "cell_type": "markdown",
   "id": "ecf8e08f",
   "metadata": {},
   "source": [
    "<h3>While Loops</h3>"
   ]
  },
  {
   "cell_type": "code",
   "execution_count": 124,
   "id": "a1341958",
   "metadata": {},
   "outputs": [],
   "source": [
    "N = 10"
   ]
  },
  {
   "cell_type": "code",
   "execution_count": 125,
   "id": "b00a4a32",
   "metadata": {},
   "outputs": [
    {
     "name": "stdout",
     "output_type": "stream",
     "text": [
      "10\n",
      "9\n",
      "8\n",
      "7\n",
      "6\n",
      "5\n",
      "4\n",
      "3\n",
      "2\n",
      "1\n"
     ]
    }
   ],
   "source": [
    "while N > 0:\n",
    "    print(N)\n",
    "    N -= 1"
   ]
  },
  {
   "cell_type": "code",
   "execution_count": 126,
   "id": "01e01739",
   "metadata": {},
   "outputs": [],
   "source": [
    "min_list = [2,3,5,6,11,22]"
   ]
  },
  {
   "cell_type": "code",
   "execution_count": 127,
   "id": "058117b1",
   "metadata": {},
   "outputs": [
    {
     "data": {
      "text/plain": [
       "2"
      ]
     },
     "execution_count": 127,
     "metadata": {},
     "output_type": "execute_result"
    }
   ],
   "source": [
    "min(min_list)"
   ]
  },
  {
   "cell_type": "code",
   "execution_count": 128,
   "id": "3519b13b",
   "metadata": {},
   "outputs": [
    {
     "data": {
      "text/plain": [
       "22"
      ]
     },
     "execution_count": 128,
     "metadata": {},
     "output_type": "execute_result"
    }
   ],
   "source": [
    "max(min_list)"
   ]
  },
  {
   "cell_type": "code",
   "execution_count": 129,
   "id": "ebbc6a40",
   "metadata": {},
   "outputs": [],
   "source": [
    "from random import shuffle"
   ]
  },
  {
   "cell_type": "code",
   "execution_count": 130,
   "id": "948e99e9",
   "metadata": {},
   "outputs": [
    {
     "data": {
      "text/plain": [
       "[2, 3, 5, 6, 11, 22]"
      ]
     },
     "execution_count": 130,
     "metadata": {},
     "output_type": "execute_result"
    }
   ],
   "source": [
    "min_list"
   ]
  },
  {
   "cell_type": "code",
   "execution_count": 131,
   "id": "75c3cfa4",
   "metadata": {},
   "outputs": [],
   "source": [
    "shuffle(min_list)"
   ]
  },
  {
   "cell_type": "code",
   "execution_count": 139,
   "id": "fcd85e0f",
   "metadata": {},
   "outputs": [
    {
     "data": {
      "text/plain": [
       "[2, 5, 3, 22, 11, 6]"
      ]
     },
     "execution_count": 139,
     "metadata": {},
     "output_type": "execute_result"
    }
   ],
   "source": [
    "min_list"
   ]
  },
  {
   "cell_type": "code",
   "execution_count": 133,
   "id": "ccbac146",
   "metadata": {},
   "outputs": [],
   "source": [
    "from random import randint"
   ]
  },
  {
   "cell_type": "code",
   "execution_count": 136,
   "id": "0cc15ef9",
   "metadata": {},
   "outputs": [
    {
     "data": {
      "text/plain": [
       "4"
      ]
     },
     "execution_count": 136,
     "metadata": {},
     "output_type": "execute_result"
    }
   ],
   "source": [
    "randint(0,10)"
   ]
  },
  {
   "cell_type": "code",
   "execution_count": 141,
   "id": "5b84a858",
   "metadata": {},
   "outputs": [
    {
     "name": "stdout",
     "output_type": "stream",
     "text": [
      "Enter a number: 55\n"
     ]
    }
   ],
   "source": [
    "result = input(\"Enter a number: \")"
   ]
  },
  {
   "cell_type": "code",
   "execution_count": 142,
   "id": "21f61ebd",
   "metadata": {},
   "outputs": [
    {
     "data": {
      "text/plain": [
       "'55'"
      ]
     },
     "execution_count": 142,
     "metadata": {},
     "output_type": "execute_result"
    }
   ],
   "source": [
    "result"
   ]
  },
  {
   "cell_type": "markdown",
   "id": "e45d2eb8",
   "metadata": {},
   "source": [
    "<h3>List Comprehensions</h3>"
   ]
  },
  {
   "cell_type": "code",
   "execution_count": 143,
   "id": "ba6db238",
   "metadata": {},
   "outputs": [],
   "source": [
    "my_string = \"heyloassanmama\""
   ]
  },
  {
   "cell_type": "code",
   "execution_count": 144,
   "id": "d6a99acc",
   "metadata": {},
   "outputs": [
    {
     "data": {
      "text/plain": [
       "['h', 'e', 'y', 'l', 'o', 'a', 's', 's', 'a', 'n', 'm', 'a', 'm', 'a']"
      ]
     },
     "execution_count": 144,
     "metadata": {},
     "output_type": "execute_result"
    }
   ],
   "source": [
    "myList = []\n",
    "for item in my_string:\n",
    "    myList.append(item)\n",
    "myList"
   ]
  },
  {
   "cell_type": "code",
   "execution_count": 147,
   "id": "8eebb463",
   "metadata": {},
   "outputs": [
    {
     "data": {
      "text/plain": [
       "['h', 'e', 'y', 'l', 'o', 'a', 's', 's', 'a', 'n', 'm', 'a', 'm', 'a']"
      ]
     },
     "execution_count": 147,
     "metadata": {},
     "output_type": "execute_result"
    }
   ],
   "source": [
    "myList2 = [letter for letter in my_string]\n",
    "myList2"
   ]
  },
  {
   "cell_type": "code",
   "execution_count": 148,
   "id": "c14b3445",
   "metadata": {},
   "outputs": [
    {
     "data": {
      "text/plain": [
       "[1, 8, 27, 64, 125, 216, 343, 512, 729]"
      ]
     },
     "execution_count": 148,
     "metadata": {},
     "output_type": "execute_result"
    }
   ],
   "source": [
    "myList3 = [num**3 for num in range(1,10)]\n",
    "myList3"
   ]
  },
  {
   "cell_type": "code",
   "execution_count": null,
   "id": "642e510c",
   "metadata": {},
   "outputs": [],
   "source": []
  }
 ],
 "metadata": {
  "kernelspec": {
   "display_name": "Python 3 (ipykernel)",
   "language": "python",
   "name": "python3"
  },
  "language_info": {
   "codemirror_mode": {
    "name": "ipython",
    "version": 3
   },
   "file_extension": ".py",
   "mimetype": "text/x-python",
   "name": "python",
   "nbconvert_exporter": "python",
   "pygments_lexer": "ipython3",
   "version": "3.9.12"
  }
 },
 "nbformat": 4,
 "nbformat_minor": 5
}
