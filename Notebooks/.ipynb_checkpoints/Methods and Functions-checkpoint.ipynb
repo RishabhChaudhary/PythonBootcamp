{
 "cells": [
  {
   "cell_type": "code",
   "execution_count": 1,
   "id": "5881a6b0",
   "metadata": {},
   "outputs": [],
   "source": [
    "def say_hello():\n",
    "    print(\"Hello Python!\")"
   ]
  },
  {
   "cell_type": "code",
   "execution_count": 2,
   "id": "502548e1",
   "metadata": {},
   "outputs": [
    {
     "name": "stdout",
     "output_type": "stream",
     "text": [
      "Hello Python!\n"
     ]
    }
   ],
   "source": [
    "say_hello()"
   ]
  },
  {
   "cell_type": "code",
   "execution_count": 3,
   "id": "64f3e8f4",
   "metadata": {},
   "outputs": [],
   "source": [
    "def say_hello(name='Default'):\n",
    "    print(f\"hello {name}\")"
   ]
  },
  {
   "cell_type": "code",
   "execution_count": 4,
   "id": "46a6ae5e",
   "metadata": {},
   "outputs": [
    {
     "name": "stdout",
     "output_type": "stream",
     "text": [
      "hello lassan\n"
     ]
    }
   ],
   "source": [
    "say_hello('lassan')"
   ]
  },
  {
   "cell_type": "code",
   "execution_count": 5,
   "id": "b975358a",
   "metadata": {},
   "outputs": [
    {
     "name": "stdout",
     "output_type": "stream",
     "text": [
      "hello Default\n"
     ]
    }
   ],
   "source": [
    "say_hello()"
   ]
  },
  {
   "cell_type": "code",
   "execution_count": 6,
   "id": "f5f7dec1",
   "metadata": {},
   "outputs": [],
   "source": [
    "def add_num(num1, num2):\n",
    "    return num1+num2"
   ]
  },
  {
   "cell_type": "code",
   "execution_count": 7,
   "id": "7b5bb065",
   "metadata": {},
   "outputs": [
    {
     "data": {
      "text/plain": [
       "5"
      ]
     },
     "execution_count": 7,
     "metadata": {},
     "output_type": "execute_result"
    }
   ],
   "source": [
    "add_num(1,4)"
   ]
  },
  {
   "cell_type": "markdown",
   "id": "045f861b",
   "metadata": {},
   "source": [
    "<h3> *args && **kwargs </h3>"
   ]
  },
  {
   "cell_type": "code",
   "execution_count": 8,
   "id": "5665cb29",
   "metadata": {},
   "outputs": [],
   "source": [
    "def add_num(*args):\n",
    "    return sum(args)"
   ]
  },
  {
   "cell_type": "code",
   "execution_count": 9,
   "id": "92b2fa99",
   "metadata": {},
   "outputs": [
    {
     "data": {
      "text/plain": [
       "13"
      ]
     },
     "execution_count": 9,
     "metadata": {},
     "output_type": "execute_result"
    }
   ],
   "source": [
    "add_num(3,4,6)"
   ]
  },
  {
   "cell_type": "code",
   "execution_count": 10,
   "id": "33d98dda",
   "metadata": {},
   "outputs": [],
   "source": [
    "def myfunc(**kwargs):\n",
    "    if 'fruit' in kwargs:\n",
    "        print(\"My coice: {}\".format(kwargs['fruit']))\n",
    "    else:\n",
    "        print('not available')"
   ]
  },
  {
   "cell_type": "code",
   "execution_count": 13,
   "id": "58dc115c",
   "metadata": {},
   "outputs": [
    {
     "name": "stdout",
     "output_type": "stream",
     "text": [
      "not available\n"
     ]
    }
   ],
   "source": [
    "\n",
    "myfunc(vdd='appa')"
   ]
  },
  {
   "cell_type": "code",
   "execution_count": 15,
   "id": "ed834812",
   "metadata": {},
   "outputs": [
    {
     "name": "stdout",
     "output_type": "stream",
     "text": [
      "My coice: appa\n"
     ]
    }
   ],
   "source": [
    "\n",
    "myfunc(fruit='appa')"
   ]
  },
  {
   "cell_type": "code",
   "execution_count": 19,
   "id": "a172c2df",
   "metadata": {},
   "outputs": [],
   "source": [
    "def myfunc(*args, **kwargs):\n",
    "    print(args)\n",
    "    print(kwargs)\n",
    "    print('I like {} {}'.format(args[0],kwargs['food']))"
   ]
  },
  {
   "cell_type": "code",
   "execution_count": 20,
   "id": "8db99522",
   "metadata": {},
   "outputs": [
    {
     "name": "stdout",
     "output_type": "stream",
     "text": [
      "(10, 20, 30)\n",
      "{'fruit': 'apple', 'food': 'fffd'}\n",
      "I like 10 fffd\n"
     ]
    }
   ],
   "source": [
    "myfunc(10,20,30,fruit=\"apple\", food='fffd')"
   ]
  },
  {
   "cell_type": "code",
   "execution_count": 43,
   "id": "de295bc6",
   "metadata": {},
   "outputs": [],
   "source": [
    "def myfunc(word):\n",
    "    newWord = ''\n",
    "    for i,ltr in enumerate(word):\n",
    "        print(i,ltr)\n",
    "        if i%2 == 0:\n",
    "            newWord += word[i].upper()\n",
    "        else:\n",
    "            newWord += word[i].lower()\n",
    "    return newWord"
   ]
  },
  {
   "cell_type": "code",
   "execution_count": 44,
   "id": "0d72ce07",
   "metadata": {},
   "outputs": [
    {
     "name": "stdout",
     "output_type": "stream",
     "text": [
      "0 l\n",
      "1 a\n",
      "2 s\n",
      "3 s\n",
      "4 a\n",
      "5 n\n",
      "6 d\n",
      "7 s\n"
     ]
    },
    {
     "data": {
      "text/plain": [
       "'LaSsAnDs'"
      ]
     },
     "execution_count": 44,
     "metadata": {},
     "output_type": "execute_result"
    }
   ],
   "source": [
    "myfunc('lassands')\n",
    "# sss = 'sss'.upper()"
   ]
  },
  {
   "cell_type": "code",
   "execution_count": 46,
   "id": "f37cf3e5",
   "metadata": {},
   "outputs": [],
   "source": [
    "tmp = [1,2,3,4]"
   ]
  },
  {
   "cell_type": "code",
   "execution_count": 49,
   "id": "63626f67",
   "metadata": {},
   "outputs": [
    {
     "data": {
      "text/plain": [
       "[4, 3, 2, 1]"
      ]
     },
     "execution_count": 49,
     "metadata": {},
     "output_type": "execute_result"
    }
   ],
   "source": [
    "tmp[::-1]"
   ]
  },
  {
   "cell_type": "code",
   "execution_count": 77,
   "id": "e62737cd",
   "metadata": {},
   "outputs": [
    {
     "name": "stdout",
     "output_type": "stream",
     "text": [
      "hhh\n",
      "hhh\n",
      "eee\n",
      "hhheee\n",
      "lll\n",
      "hhheeelll\n",
      "lll\n",
      "hhheeellllll\n",
      "ooo\n",
      "hhheeellllllooo\n"
     ]
    }
   ],
   "source": [
    "updatedstr = ''\n",
    "for char in 'hello'[::]:\n",
    "    print(char*3)\n",
    "#     print(updatedstr.join(char*3))\n",
    "    updatedstr += (char*3)\n",
    "    print(updatedstr)"
   ]
  },
  {
   "cell_type": "code",
   "execution_count": 78,
   "id": "580b9f13",
   "metadata": {},
   "outputs": [
    {
     "data": {
      "text/plain": [
       "'hhheeellllllooo'"
      ]
     },
     "execution_count": 78,
     "metadata": {},
     "output_type": "execute_result"
    }
   ],
   "source": [
    "updatedstr"
   ]
  },
  {
   "cell_type": "code",
   "execution_count": null,
   "id": "7f9916bd",
   "metadata": {},
   "outputs": [],
   "source": []
  }
 ],
 "metadata": {
  "kernelspec": {
   "display_name": "Python 3 (ipykernel)",
   "language": "python",
   "name": "python3"
  },
  "language_info": {
   "codemirror_mode": {
    "name": "ipython",
    "version": 3
   },
   "file_extension": ".py",
   "mimetype": "text/x-python",
   "name": "python",
   "nbconvert_exporter": "python",
   "pygments_lexer": "ipython3",
   "version": "3.9.12"
  }
 },
 "nbformat": 4,
 "nbformat_minor": 5
}
