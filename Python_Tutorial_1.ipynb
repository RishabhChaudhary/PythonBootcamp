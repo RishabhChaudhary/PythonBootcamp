{
  "nbformat": 4,
  "nbformat_minor": 0,
  "metadata": {
    "colab": {
      "provenance": [],
      "gpuType": "T4",
      "authorship_tag": "ABX9TyPBtzPJPpdyzBFgQdQEgSur",
      "include_colab_link": true
    },
    "kernelspec": {
      "name": "python3",
      "display_name": "Python 3"
    },
    "language_info": {
      "name": "python"
    },
    "accelerator": "GPU"
  },
  "cells": [
    {
      "cell_type": "markdown",
      "metadata": {
        "id": "view-in-github",
        "colab_type": "text"
      },
      "source": [
        "<a href=\"https://colab.research.google.com/github/RishabhChaudhary/PythonBootcamp/blob/main/Python_Tutorial_1.ipynb\" target=\"_parent\"><img src=\"https://colab.research.google.com/assets/colab-badge.svg\" alt=\"Open In Colab\"/></a>"
      ]
    },
    {
      "cell_type": "markdown",
      "source": [
        "* If statement"
      ],
      "metadata": {
        "id": "or4QHE_yGX-t"
      }
    },
    {
      "cell_type": "code",
      "execution_count": 41,
      "metadata": {
        "id": "pB3shCTBLkjd",
        "outputId": "8740c007-8ff0-400f-e818-a67919944ec5",
        "colab": {
          "base_uri": "https://localhost:8080/"
        }
      },
      "outputs": [
        {
          "output_type": "stream",
          "name": "stdout",
          "text": [
            "Enter a number: 10\n",
            "10 is even.\n"
          ]
        }
      ],
      "source": [
        "x = int(input(\"Enter a number: \"))\n",
        "if x%2 == 0:\n",
        "  print(f\"{x} is even.\")\n",
        "else:\n",
        "  print(f\"{x} is odd.\")"
      ]
    },
    {
      "cell_type": "markdown",
      "source": [
        "* Update sequence during iteration"
      ],
      "metadata": {
        "id": "bWcjfah9GqMZ"
      }
    },
    {
      "cell_type": "code",
      "source": [
        "users = {'Hans': 'active', 'Éléonore': 'inactive', '景太郎': 'active'}\n",
        "\n",
        "#Iterate over a copy\n",
        "for user, status in users.copy().items():\n",
        "    if status == 'inactive':\n",
        "        del users[user]\n",
        "print(users)"
      ],
      "metadata": {
        "id": "vKu_gPgkGkPX",
        "outputId": "e0dc0a35-dbc3-463c-b2b1-dd9965fbfe55",
        "colab": {
          "base_uri": "https://localhost:8080/"
        }
      },
      "execution_count": 43,
      "outputs": [
        {
          "output_type": "stream",
          "name": "stdout",
          "text": [
            "{'Hans': 'active', '景太郎': 'active'}\n"
          ]
        }
      ]
    },
    {
      "cell_type": "markdown",
      "source": [
        "* For loop with else"
      ],
      "metadata": {
        "id": "viJMbgYVG-j1"
      }
    },
    {
      "cell_type": "code",
      "source": [
        "N = int(input(\"Enter a number: \"))\n",
        "for n in range(2, N):\n",
        "    for x in range(2, n//2+1):\n",
        "        if n % x == 0:\n",
        "            print(n, '=', x, '*', n//x)\n",
        "            break\n",
        "    else:\n",
        "        # loop fell through without finding a factor\n",
        "        print(n, 'is a prime number')"
      ],
      "metadata": {
        "id": "S_xv_RjSG1l-",
        "outputId": "9f2ac4b6-f014-4d9c-8366-78327d4a969f",
        "colab": {
          "base_uri": "https://localhost:8080/"
        }
      },
      "execution_count": 44,
      "outputs": [
        {
          "output_type": "stream",
          "name": "stdout",
          "text": [
            "Enter a number: 10\n",
            "2 is a prime number\n",
            "3 is a prime number\n",
            "4 = 2 * 2\n",
            "5 is a prime number\n",
            "6 = 2 * 3\n",
            "7 is a prime number\n",
            "8 = 2 * 4\n",
            "9 = 3 * 3\n"
          ]
        }
      ]
    },
    {
      "cell_type": "code",
      "source": [
        "def http_response(status):\n",
        "    match status:\n",
        "        case 400 | 404| 403:\n",
        "            return \"Error\"\n",
        "        case 202:\n",
        "            return \"Ok\"\n",
        "        case _:\n",
        "            return \"Not a status\"\n",
        "\n",
        "print(http_response(200))\n",
        "print(http_response(202))\n",
        "print(http_response(404))"
      ],
      "metadata": {
        "id": "3AH7toPQHNgy",
        "outputId": "6837f122-fa0e-473f-c595-896b3aecbfa1",
        "colab": {
          "base_uri": "https://localhost:8080/"
        }
      },
      "execution_count": 47,
      "outputs": [
        {
          "output_type": "stream",
          "name": "stdout",
          "text": [
            "Not a status\n",
            "Ok\n",
            "Error\n"
          ]
        }
      ]
    },
    {
      "cell_type": "markdown",
      "source": [
        "* Fibonacci upto N"
      ],
      "metadata": {
        "id": "bXWy1tZqHsgX"
      }
    },
    {
      "cell_type": "code",
      "source": [
        "def fibo(N):\n",
        "  a,b=0,1\n",
        "  while a <= N:\n",
        "    print(a, end=' ')\n",
        "    a,b=b,a+b\n",
        "\n",
        "fibo(10)"
      ],
      "metadata": {
        "id": "-aX-hC5IHebc",
        "outputId": "2f509faa-e322-46f3-8189-55c271c64627",
        "colab": {
          "base_uri": "https://localhost:8080/"
        }
      },
      "execution_count": 51,
      "outputs": [
        {
          "output_type": "stream",
          "name": "stdout",
          "text": [
            "0 1 1 2 3 5 8 "
          ]
        }
      ]
    },
    {
      "cell_type": "code",
      "source": [
        "def febo(N):\n",
        "  if N <= 1:\n",
        "    return N\n",
        "  else:\n",
        "    return fibo(N-1) + fibo(N-2)\n",
        ""
      ],
      "metadata": {
        "id": "Kvk1d2aVH4ty"
      },
      "execution_count": 58,
      "outputs": []
    },
    {
      "cell_type": "code",
      "source": [
        "febo(5)"
      ],
      "metadata": {
        "id": "Y_NYThovJ2Xr",
        "outputId": "5513ae99-1f26-487c-e5d7-35b2c68d9e9f",
        "colab": {
          "base_uri": "https://localhost:8080/",
          "height": 298
        }
      },
      "execution_count": 59,
      "outputs": [
        {
          "output_type": "stream",
          "name": "stdout",
          "text": [
            "0 1 1 2 3 0 1 1 2 3 "
          ]
        },
        {
          "output_type": "error",
          "ename": "TypeError",
          "evalue": "ignored",
          "traceback": [
            "\u001b[0;31m---------------------------------------------------------------------------\u001b[0m",
            "\u001b[0;31mTypeError\u001b[0m                                 Traceback (most recent call last)",
            "\u001b[0;32m<ipython-input-59-05256927382b>\u001b[0m in \u001b[0;36m<cell line: 1>\u001b[0;34m()\u001b[0m\n\u001b[0;32m----> 1\u001b[0;31m \u001b[0mfebo\u001b[0m\u001b[0;34m(\u001b[0m\u001b[0;36m5\u001b[0m\u001b[0;34m)\u001b[0m\u001b[0;34m\u001b[0m\u001b[0;34m\u001b[0m\u001b[0m\n\u001b[0m",
            "\u001b[0;32m<ipython-input-58-1705f0aaf568>\u001b[0m in \u001b[0;36mfebo\u001b[0;34m(N)\u001b[0m\n\u001b[1;32m      3\u001b[0m     \u001b[0;32mreturn\u001b[0m \u001b[0mN\u001b[0m\u001b[0;34m\u001b[0m\u001b[0;34m\u001b[0m\u001b[0m\n\u001b[1;32m      4\u001b[0m   \u001b[0;32melse\u001b[0m\u001b[0;34m:\u001b[0m\u001b[0;34m\u001b[0m\u001b[0;34m\u001b[0m\u001b[0m\n\u001b[0;32m----> 5\u001b[0;31m     \u001b[0;32mreturn\u001b[0m \u001b[0mfibo\u001b[0m\u001b[0;34m(\u001b[0m\u001b[0mN\u001b[0m\u001b[0;34m-\u001b[0m\u001b[0;36m1\u001b[0m\u001b[0;34m)\u001b[0m \u001b[0;34m+\u001b[0m \u001b[0mfibo\u001b[0m\u001b[0;34m(\u001b[0m\u001b[0mN\u001b[0m\u001b[0;34m-\u001b[0m\u001b[0;36m2\u001b[0m\u001b[0;34m)\u001b[0m\u001b[0;34m\u001b[0m\u001b[0;34m\u001b[0m\u001b[0m\n\u001b[0m\u001b[1;32m      6\u001b[0m \u001b[0;34m\u001b[0m\u001b[0m\n",
            "\u001b[0;31mTypeError\u001b[0m: unsupported operand type(s) for +: 'NoneType' and 'NoneType'"
          ]
        }
      ]
    },
    {
      "cell_type": "code",
      "source": [],
      "metadata": {
        "id": "qCy2DmFvJ4iV"
      },
      "execution_count": null,
      "outputs": []
    }
  ]
}